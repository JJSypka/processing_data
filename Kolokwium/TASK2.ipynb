{
 "cells": [
  {
   "cell_type": "markdown",
   "metadata": {},
   "source": [
    "Display all singers' data"
   ]
  },
  {
   "cell_type": "code",
   "execution_count": 8,
   "metadata": {},
   "outputs": [
    {
     "data": {
      "text/html": [
       "<div>\n",
       "<style scoped>\n",
       "    .dataframe tbody tr th:only-of-type {\n",
       "        vertical-align: middle;\n",
       "    }\n",
       "\n",
       "    .dataframe tbody tr th {\n",
       "        vertical-align: top;\n",
       "    }\n",
       "\n",
       "    .dataframe thead th {\n",
       "        text-align: right;\n",
       "    }\n",
       "</style>\n",
       "<table border=\"1\" class=\"dataframe\">\n",
       "  <thead>\n",
       "    <tr style=\"text-align: right;\">\n",
       "      <th></th>\n",
       "      <th>Name</th>\n",
       "      <th>Year of birth</th>\n",
       "      <th>Number of sold albums</th>\n",
       "    </tr>\n",
       "  </thead>\n",
       "  <tbody>\n",
       "    <tr>\n",
       "      <th>0</th>\n",
       "      <td>Diana Ross</td>\n",
       "      <td>1944</td>\n",
       "      <td>100000000</td>\n",
       "    </tr>\n",
       "    <tr>\n",
       "      <th>1</th>\n",
       "      <td>Doly Parton</td>\n",
       "      <td>1946</td>\n",
       "      <td>40000000</td>\n",
       "    </tr>\n",
       "    <tr>\n",
       "      <th>2</th>\n",
       "      <td>Lady Gaga</td>\n",
       "      <td>1986</td>\n",
       "      <td>27000000</td>\n",
       "    </tr>\n",
       "    <tr>\n",
       "      <th>3</th>\n",
       "      <td>Mariah Carey</td>\n",
       "      <td>1970</td>\n",
       "      <td>200000000</td>\n",
       "    </tr>\n",
       "  </tbody>\n",
       "</table>\n",
       "</div>"
      ],
      "text/plain": [
       "           Name  Year of birth  Number of sold albums\n",
       "0    Diana Ross           1944              100000000\n",
       "1   Doly Parton           1946               40000000\n",
       "2     Lady Gaga           1986               27000000\n",
       "3  Mariah Carey           1970              200000000"
      ]
     },
     "execution_count": 8,
     "metadata": {},
     "output_type": "execute_result"
    }
   ],
   "source": [
    "import pandas as pd\n",
    "\n",
    "singers= [\n",
    "    [\"Diana Ross\", 1944,100000000],\n",
    "    [\"Doly Parton\",1946,40000000],\n",
    "    [\"Lady Gaga\",1986,27000000],\n",
    "    [\"Mariah Carey\", 1970,200000000]\n",
    "]\n",
    "\n",
    "df = pd.DataFrame(data=singers, columns=[\"Name\",\"Year of birth\", \"Number of sold albums\"])\n",
    "df"
   ]
  },
  {
   "cell_type": "markdown",
   "metadata": {},
   "source": [
    "Display data about singers,starting with the youngest"
   ]
  },
  {
   "cell_type": "code",
   "execution_count": 9,
   "metadata": {},
   "outputs": [
    {
     "data": {
      "text/html": [
       "<div>\n",
       "<style scoped>\n",
       "    .dataframe tbody tr th:only-of-type {\n",
       "        vertical-align: middle;\n",
       "    }\n",
       "\n",
       "    .dataframe tbody tr th {\n",
       "        vertical-align: top;\n",
       "    }\n",
       "\n",
       "    .dataframe thead th {\n",
       "        text-align: right;\n",
       "    }\n",
       "</style>\n",
       "<table border=\"1\" class=\"dataframe\">\n",
       "  <thead>\n",
       "    <tr style=\"text-align: right;\">\n",
       "      <th></th>\n",
       "      <th>Name</th>\n",
       "      <th>Year of birth</th>\n",
       "      <th>Number of sold albums</th>\n",
       "    </tr>\n",
       "  </thead>\n",
       "  <tbody>\n",
       "    <tr>\n",
       "      <th>2</th>\n",
       "      <td>Lady Gaga</td>\n",
       "      <td>1986</td>\n",
       "      <td>27000000</td>\n",
       "    </tr>\n",
       "    <tr>\n",
       "      <th>3</th>\n",
       "      <td>Mariah Carey</td>\n",
       "      <td>1970</td>\n",
       "      <td>200000000</td>\n",
       "    </tr>\n",
       "    <tr>\n",
       "      <th>1</th>\n",
       "      <td>Doly Parton</td>\n",
       "      <td>1946</td>\n",
       "      <td>40000000</td>\n",
       "    </tr>\n",
       "    <tr>\n",
       "      <th>0</th>\n",
       "      <td>Diana Ross</td>\n",
       "      <td>1944</td>\n",
       "      <td>100000000</td>\n",
       "    </tr>\n",
       "  </tbody>\n",
       "</table>\n",
       "</div>"
      ],
      "text/plain": [
       "           Name  Year of birth  Number of sold albums\n",
       "2     Lady Gaga           1986               27000000\n",
       "3  Mariah Carey           1970              200000000\n",
       "1   Doly Parton           1946               40000000\n",
       "0    Diana Ross           1944              100000000"
      ]
     },
     "execution_count": 9,
     "metadata": {},
     "output_type": "execute_result"
    }
   ],
   "source": [
    "df.sort_values(by=\"Year of birth\", ascending=False)\n"
   ]
  },
  {
   "cell_type": "markdown",
   "metadata": {},
   "source": [
    "Display the name and surname of singers (in capitale leters), born after 1950 and the numvber of records sold. do not display they year of birth"
   ]
  },
  {
   "cell_type": "code",
   "execution_count": 10,
   "metadata": {},
   "outputs": [
    {
     "data": {
      "text/html": [
       "<div>\n",
       "<style scoped>\n",
       "    .dataframe tbody tr th:only-of-type {\n",
       "        vertical-align: middle;\n",
       "    }\n",
       "\n",
       "    .dataframe tbody tr th {\n",
       "        vertical-align: top;\n",
       "    }\n",
       "\n",
       "    .dataframe thead th {\n",
       "        text-align: right;\n",
       "    }\n",
       "</style>\n",
       "<table border=\"1\" class=\"dataframe\">\n",
       "  <thead>\n",
       "    <tr style=\"text-align: right;\">\n",
       "      <th></th>\n",
       "      <th>Name</th>\n",
       "      <th>Number of sold albums</th>\n",
       "    </tr>\n",
       "  </thead>\n",
       "  <tbody>\n",
       "    <tr>\n",
       "      <th>2</th>\n",
       "      <td>LADY GAGA</td>\n",
       "      <td>27000000</td>\n",
       "    </tr>\n",
       "    <tr>\n",
       "      <th>3</th>\n",
       "      <td>MARIAH CAREY</td>\n",
       "      <td>200000000</td>\n",
       "    </tr>\n",
       "  </tbody>\n",
       "</table>\n",
       "</div>"
      ],
      "text/plain": [
       "           Name  Number of sold albums\n",
       "2     LADY GAGA               27000000\n",
       "3  MARIAH CAREY              200000000"
      ]
     },
     "execution_count": 10,
     "metadata": {},
     "output_type": "execute_result"
    }
   ],
   "source": [
    "df_added = df\n",
    "df_added[\"Name\"]= df_added[\"Name\"].str.upper()\n",
    "df_filterred=df_added[df_added[\"Year of birth\"]>1950]\n",
    "df_filterred.loc[:,[\"Name\",\"Number of sold albums\"]]"
   ]
  },
  {
   "cell_type": "markdown",
   "metadata": {},
   "source": [
    "Create a bar chart showing the singers ages in years. Describe all the elements of the chart"
   ]
  },
  {
   "cell_type": "code",
   "execution_count": 13,
   "metadata": {},
   "outputs": [
    {
     "data": {
      "text/plain": [
       "<Axes: title={'center': 'Singers age'}, xlabel='Name of singer', ylabel='Years'>"
      ]
     },
     "execution_count": 13,
     "metadata": {},
     "output_type": "execute_result"
    },
    {
     "data": {
      "image/png": "[encoded data removed]",
      "text/plain": [
       "<Figure size 640x480 with 1 Axes>"
      ]
     },
     "metadata": {},
     "output_type": "display_data"
    }
   ],
   "source": [
    "import pandas as pd\n",
    "\n",
    "singers= [\n",
    "    [\"Diana Ross\", 1944,100000000],\n",
    "    [\"Doly Parton\",1946,40000000],\n",
    "    [\"Lady Gaga\",1986,27000000],\n",
    "    [\"Mariah Carey\", 1970,200000000]\n",
    "]\n",
    "\n",
    "df = pd.DataFrame(data=singers, columns=[\"Name\",\"Year of birth\", \"Number of sold albums\"])\n",
    "df.set_index('Name', inplace=True)\n",
    "df[\"Age\"] = 2024 - df[\"Year of birth\"]\n",
    "df[\"Age\"].plot(kind=\"bar\", title=\"Singers age\", xlabel=\"Name of singer\", ylabel=\"Years\" )"
   ]
  },
  {
   "cell_type": "markdown",
   "metadata": {},
   "source": [
    "Create a pie chart showing the number of albums sold in milions by each singer. Descrive all the elements oif chart."
   ]
  },
  {
   "cell_type": "code",
   "execution_count": 14,
   "metadata": {},
   "outputs": [
    {
     "data": {
      "text/plain": [
       "<Axes: title={'center': 'Albums sold in milions'}, ylabel=' '>"
      ]
     },
     "execution_count": 14,
     "metadata": {},
     "output_type": "execute_result"
    },
    {
     "data": {
      "image/png": "[encoded data removed]",
      "text/plain": [
       "<Figure size 640x480 with 1 Axes>"
      ]
     },
     "metadata": {},
     "output_type": "display_data"
    }
   ],
   "source": [
    "df[\"Albums in milions\"] = df[\"Number of sold albums\"] / 1000000\n",
    "values = df[\"Albums in milions\"]\n",
    "\n",
    "def make_autopct(values):\n",
    "    def my_autopcs(pct):\n",
    "        total = sum(values)\n",
    "        val = int(round(pct*total /100.0))\n",
    "        return val\n",
    "    return my_autopcs\n",
    "\n",
    "df[\"Albums in milions\"].plot(kind=\"pie\", autopct = make_autopct(values), ylabel=\" \", title=\"Albums sold in milions\")"
   ]
  }
 ],
 "metadata": {
  "kernelspec": {
   "display_name": "Python 3",
   "language": "python",
   "name": "python3"
  },
  "language_info": {
   "codemirror_mode": {
    "name": "ipython",
    "version": 3
   },
   "file_extension": ".py",
   "mimetype": "text/x-python",
   "name": "python",
   "nbconvert_exporter": "python",
   "pygments_lexer": "ipython3",
   "version": "3.11.4"
  }
 },
 "nbformat": 4,
 "nbformat_minor": 2
}
