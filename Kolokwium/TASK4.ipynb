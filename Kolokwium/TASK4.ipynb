{
 "cells": [
  {
   "cell_type": "markdown",
   "metadata": {},
   "source": [
    "Display a list of operating systems along with the average amount of RAM"
   ]
  },
  {
   "cell_type": "code",
   "execution_count": 3,
   "metadata": {},
   "outputs": [
    {
     "data": {
      "text/html": [
       "<div>\n",
       "<style scoped>\n",
       "    .dataframe tbody tr th:only-of-type {\n",
       "        vertical-align: middle;\n",
       "    }\n",
       "\n",
       "    .dataframe tbody tr th {\n",
       "        vertical-align: top;\n",
       "    }\n",
       "\n",
       "    .dataframe thead th {\n",
       "        text-align: right;\n",
       "    }\n",
       "</style>\n",
       "<table border=\"1\" class=\"dataframe\">\n",
       "  <thead>\n",
       "    <tr style=\"text-align: right;\">\n",
       "      <th></th>\n",
       "      <th>avwerage_ram_gb</th>\n",
       "    </tr>\n",
       "    <tr>\n",
       "      <th>system</th>\n",
       "      <th></th>\n",
       "    </tr>\n",
       "  </thead>\n",
       "  <tbody>\n",
       "    <tr>\n",
       "      <th>Linux</th>\n",
       "      <td>32.000000</td>\n",
       "    </tr>\n",
       "    <tr>\n",
       "      <th>Windows</th>\n",
       "      <td>13.333333</td>\n",
       "    </tr>\n",
       "    <tr>\n",
       "      <th>macOS</th>\n",
       "      <td>19.200000</td>\n",
       "    </tr>\n",
       "  </tbody>\n",
       "</table>\n",
       "</div>"
      ],
      "text/plain": [
       "         avwerage_ram_gb\n",
       "system                  \n",
       "Linux          32.000000\n",
       "Windows        13.333333\n",
       "macOS          19.200000"
      ]
     },
     "execution_count": 3,
     "metadata": {},
     "output_type": "execute_result"
    }
   ],
   "source": [
    "import pandas as pd \n",
    "\n",
    "computers =pd.read_csv(\"computers.csv\")\n",
    "task1 = computers.groupby(by=\"system\")[\"ram_gb\"].mean()\n",
    "task1 = pd.DataFrame(data=task1)\n",
    "task1.rename(columns={\"ram_gb\": \"avwerage_ram_gb\"},inplace=True)\n",
    "task1"
   ]
  },
  {
   "cell_type": "markdown",
   "metadata": {},
   "source": [
    "Create a bar chart showing the total size of shared files and the total size of unshared files"
   ]
  },
  {
   "cell_type": "code",
   "execution_count": 9,
   "metadata": {},
   "outputs": [
    {
     "data": {
      "text/plain": [
       "shared\n",
       "no     2816060\n",
       "yes    3041054\n",
       "Name: filesize_kB, dtype: int64"
      ]
     },
     "execution_count": 9,
     "metadata": {},
     "output_type": "execute_result"
    },
    {
     "data": {
      "image/png": "[encoded data removed]",
      "text/plain": [
       "<Figure size 640x480 with 1 Axes>"
      ]
     },
     "metadata": {},
     "output_type": "display_data"
    }
   ],
   "source": [
    "import matplotlib as plt\n",
    "files = pd.read_csv(\"files.csv\")\n",
    "files\n",
    "files.groupby(by=\"shared\")[\"filesize_kB\"].sum().plot(kind=\"bar\", title=\"Total size of shared files\", ylabel=\"Kilobytes\")\n",
    "files.groupby(by=\"shared\")[\"filesize_kB\"].sum()\n"
   ]
  },
  {
   "cell_type": "markdown",
   "metadata": {},
   "source": [
    "View Mela Hallards shared files, sorted by file with the largest file size"
   ]
  },
  {
   "cell_type": "code",
   "execution_count": 13,
   "metadata": {},
   "outputs": [
    {
     "data": {
      "text/html": [
       "<div>\n",
       "<style scoped>\n",
       "    .dataframe tbody tr th:only-of-type {\n",
       "        vertical-align: middle;\n",
       "    }\n",
       "\n",
       "    .dataframe tbody tr th {\n",
       "        vertical-align: top;\n",
       "    }\n",
       "\n",
       "    .dataframe thead th {\n",
       "        text-align: right;\n",
       "    }\n",
       "</style>\n",
       "<table border=\"1\" class=\"dataframe\">\n",
       "  <thead>\n",
       "    <tr style=\"text-align: right;\">\n",
       "      <th></th>\n",
       "      <th>computer_id</th>\n",
       "      <th>user</th>\n",
       "      <th>system</th>\n",
       "      <th>ram_gb</th>\n",
       "      <th>ssd_gb</th>\n",
       "      <th>file_id</th>\n",
       "      <th>filename</th>\n",
       "      <th>filesize_kB</th>\n",
       "      <th>shared</th>\n",
       "    </tr>\n",
       "  </thead>\n",
       "  <tbody>\n",
       "    <tr>\n",
       "      <th>228</th>\n",
       "      <td>7</td>\n",
       "      <td>Mela Hallard</td>\n",
       "      <td>Windows</td>\n",
       "      <td>16</td>\n",
       "      <td>512</td>\n",
       "      <td>384</td>\n",
       "      <td>VelPede.pdf</td>\n",
       "      <td>24983</td>\n",
       "      <td>yes</td>\n",
       "    </tr>\n",
       "    <tr>\n",
       "      <th>223</th>\n",
       "      <td>7</td>\n",
       "      <td>Mela Hallard</td>\n",
       "      <td>Windows</td>\n",
       "      <td>16</td>\n",
       "      <td>512</td>\n",
       "      <td>299</td>\n",
       "      <td>NasceturRidiculusMus.mov</td>\n",
       "      <td>20433</td>\n",
       "      <td>yes</td>\n",
       "    </tr>\n",
       "    <tr>\n",
       "      <th>210</th>\n",
       "      <td>7</td>\n",
       "      <td>Mela Hallard</td>\n",
       "      <td>Windows</td>\n",
       "      <td>16</td>\n",
       "      <td>512</td>\n",
       "      <td>84</td>\n",
       "      <td>Condimentum.txt</td>\n",
       "      <td>18993</td>\n",
       "      <td>yes</td>\n",
       "    </tr>\n",
       "    <tr>\n",
       "      <th>209</th>\n",
       "      <td>7</td>\n",
       "      <td>Mela Hallard</td>\n",
       "      <td>Windows</td>\n",
       "      <td>16</td>\n",
       "      <td>512</td>\n",
       "      <td>31</td>\n",
       "      <td>Augue.mp3</td>\n",
       "      <td>17226</td>\n",
       "      <td>yes</td>\n",
       "    </tr>\n",
       "    <tr>\n",
       "      <th>218</th>\n",
       "      <td>7</td>\n",
       "      <td>Mela Hallard</td>\n",
       "      <td>Windows</td>\n",
       "      <td>16</td>\n",
       "      <td>512</td>\n",
       "      <td>252</td>\n",
       "      <td>Orci.xls</td>\n",
       "      <td>13108</td>\n",
       "      <td>yes</td>\n",
       "    </tr>\n",
       "    <tr>\n",
       "      <th>221</th>\n",
       "      <td>7</td>\n",
       "      <td>Mela Hallard</td>\n",
       "      <td>Windows</td>\n",
       "      <td>16</td>\n",
       "      <td>512</td>\n",
       "      <td>281</td>\n",
       "      <td>NecNisiVulputate.tiff</td>\n",
       "      <td>6339</td>\n",
       "      <td>yes</td>\n",
       "    </tr>\n",
       "    <tr>\n",
       "      <th>229</th>\n",
       "      <td>7</td>\n",
       "      <td>Mela Hallard</td>\n",
       "      <td>Windows</td>\n",
       "      <td>16</td>\n",
       "      <td>512</td>\n",
       "      <td>399</td>\n",
       "      <td>TempusSit.xls</td>\n",
       "      <td>4619</td>\n",
       "      <td>yes</td>\n",
       "    </tr>\n",
       "    <tr>\n",
       "      <th>232</th>\n",
       "      <td>7</td>\n",
       "      <td>Mela Hallard</td>\n",
       "      <td>Windows</td>\n",
       "      <td>16</td>\n",
       "      <td>512</td>\n",
       "      <td>453</td>\n",
       "      <td>Etiam.xls</td>\n",
       "      <td>4146</td>\n",
       "      <td>yes</td>\n",
       "    </tr>\n",
       "    <tr>\n",
       "      <th>233</th>\n",
       "      <td>7</td>\n",
       "      <td>Mela Hallard</td>\n",
       "      <td>Windows</td>\n",
       "      <td>16</td>\n",
       "      <td>512</td>\n",
       "      <td>458</td>\n",
       "      <td>HabitassePlatea.avi</td>\n",
       "      <td>2897</td>\n",
       "      <td>yes</td>\n",
       "    </tr>\n",
       "    <tr>\n",
       "      <th>211</th>\n",
       "      <td>7</td>\n",
       "      <td>Mela Hallard</td>\n",
       "      <td>Windows</td>\n",
       "      <td>16</td>\n",
       "      <td>512</td>\n",
       "      <td>152</td>\n",
       "      <td>HendreritAt.png</td>\n",
       "      <td>2845</td>\n",
       "      <td>yes</td>\n",
       "    </tr>\n",
       "  </tbody>\n",
       "</table>\n",
       "</div>"
      ],
      "text/plain": [
       "     computer_id          user   system  ram_gb  ssd_gb  file_id  \\\n",
       "228            7  Mela Hallard  Windows      16     512      384   \n",
       "223            7  Mela Hallard  Windows      16     512      299   \n",
       "210            7  Mela Hallard  Windows      16     512       84   \n",
       "209            7  Mela Hallard  Windows      16     512       31   \n",
       "218            7  Mela Hallard  Windows      16     512      252   \n",
       "221            7  Mela Hallard  Windows      16     512      281   \n",
       "229            7  Mela Hallard  Windows      16     512      399   \n",
       "232            7  Mela Hallard  Windows      16     512      453   \n",
       "233            7  Mela Hallard  Windows      16     512      458   \n",
       "211            7  Mela Hallard  Windows      16     512      152   \n",
       "\n",
       "                     filename  filesize_kB shared  \n",
       "228               VelPede.pdf        24983    yes  \n",
       "223  NasceturRidiculusMus.mov        20433    yes  \n",
       "210           Condimentum.txt        18993    yes  \n",
       "209                 Augue.mp3        17226    yes  \n",
       "218                  Orci.xls        13108    yes  \n",
       "221     NecNisiVulputate.tiff         6339    yes  \n",
       "229             TempusSit.xls         4619    yes  \n",
       "232                 Etiam.xls         4146    yes  \n",
       "233       HabitassePlatea.avi         2897    yes  \n",
       "211           HendreritAt.png         2845    yes  "
      ]
     },
     "execution_count": 13,
     "metadata": {},
     "output_type": "execute_result"
    }
   ],
   "source": [
    "computers.rename(columns={'id':\"computer_id\"}, inplace=True)\n",
    "files.rename(columns={'id':'file_id'},inplace = True)\n",
    "computers_files = pd.merge(computers,files,on=\"computer_id\")\n",
    "computers_files.query(\"user == 'Mela Hallard' and shared =='yes'\").sort_values(by='filesize_kB',ascending=False)"
   ]
  },
  {
   "cell_type": "markdown",
   "metadata": {},
   "source": [
    "View a list of computers with the number of files"
   ]
  },
  {
   "cell_type": "code",
   "execution_count": 24,
   "metadata": {},
   "outputs": [
    {
     "data": {
      "text/html": [
       "<div>\n",
       "<style scoped>\n",
       "    .dataframe tbody tr th:only-of-type {\n",
       "        vertical-align: middle;\n",
       "    }\n",
       "\n",
       "    .dataframe tbody tr th {\n",
       "        vertical-align: top;\n",
       "    }\n",
       "\n",
       "    .dataframe thead th {\n",
       "        text-align: right;\n",
       "    }\n",
       "</style>\n",
       "<table border=\"1\" class=\"dataframe\">\n",
       "  <thead>\n",
       "    <tr style=\"text-align: right;\">\n",
       "      <th></th>\n",
       "      <th>filename</th>\n",
       "    </tr>\n",
       "    <tr>\n",
       "      <th>computer_id</th>\n",
       "      <th></th>\n",
       "    </tr>\n",
       "  </thead>\n",
       "  <tbody>\n",
       "    <tr>\n",
       "      <th>1</th>\n",
       "      <td>35</td>\n",
       "    </tr>\n",
       "    <tr>\n",
       "      <th>2</th>\n",
       "      <td>40</td>\n",
       "    </tr>\n",
       "    <tr>\n",
       "      <th>3</th>\n",
       "      <td>36</td>\n",
       "    </tr>\n",
       "    <tr>\n",
       "      <th>4</th>\n",
       "      <td>30</td>\n",
       "    </tr>\n",
       "    <tr>\n",
       "      <th>5</th>\n",
       "      <td>35</td>\n",
       "    </tr>\n",
       "    <tr>\n",
       "      <th>6</th>\n",
       "      <td>32</td>\n",
       "    </tr>\n",
       "    <tr>\n",
       "      <th>7</th>\n",
       "      <td>29</td>\n",
       "    </tr>\n",
       "    <tr>\n",
       "      <th>8</th>\n",
       "      <td>33</td>\n",
       "    </tr>\n",
       "    <tr>\n",
       "      <th>9</th>\n",
       "      <td>35</td>\n",
       "    </tr>\n",
       "    <tr>\n",
       "      <th>10</th>\n",
       "      <td>37</td>\n",
       "    </tr>\n",
       "    <tr>\n",
       "      <th>11</th>\n",
       "      <td>27</td>\n",
       "    </tr>\n",
       "    <tr>\n",
       "      <th>12</th>\n",
       "      <td>37</td>\n",
       "    </tr>\n",
       "    <tr>\n",
       "      <th>13</th>\n",
       "      <td>31</td>\n",
       "    </tr>\n",
       "    <tr>\n",
       "      <th>14</th>\n",
       "      <td>26</td>\n",
       "    </tr>\n",
       "    <tr>\n",
       "      <th>15</th>\n",
       "      <td>37</td>\n",
       "    </tr>\n",
       "  </tbody>\n",
       "</table>\n",
       "</div>"
      ],
      "text/plain": [
       "             filename\n",
       "computer_id          \n",
       "1                  35\n",
       "2                  40\n",
       "3                  36\n",
       "4                  30\n",
       "5                  35\n",
       "6                  32\n",
       "7                  29\n",
       "8                  33\n",
       "9                  35\n",
       "10                 37\n",
       "11                 27\n",
       "12                 37\n",
       "13                 31\n",
       "14                 26\n",
       "15                 37"
      ]
     },
     "execution_count": 24,
     "metadata": {},
     "output_type": "execute_result"
    }
   ],
   "source": [
    "task_4 = computers_files[['filename',\"computer_id\"]].groupby(by='computer_id').count()\n",
    "task_4"
   ]
  },
  {
   "cell_type": "markdown",
   "metadata": {},
   "source": [
    "Create a bar chart showing the total size on Windows and linux"
   ]
  },
  {
   "cell_type": "code",
   "execution_count": 26,
   "metadata": {},
   "outputs": [
    {
     "data": {
      "text/plain": [
       "<Axes: title={'center': 'total file size in kB on Windows and Linux'}, xlabel='Computer ID', ylabel='Size in kB'>"
      ]
     },
     "execution_count": 26,
     "metadata": {},
     "output_type": "execute_result"
    },
    {
     "data": {
      "image/png": "[encoded data removed]",
      "text/plain": [
       "<Figure size 640x480 with 1 Axes>"
      ]
     },
     "metadata": {},
     "output_type": "display_data"
    }
   ],
   "source": [
    "computers_files.query(\"system=='Windows' or system =='Linux'\").groupby('system')['filesize_kB'].sum()\n",
    "task5 = computers_files.query(\"system=='Windows' or system =='Linux'\").groupby('system')['filesize_kB'].sum()\n",
    "task5= pd.DataFrame(task5)\n",
    "task5.rename(columns={'filesize_kB':\"total_size_of_files\"}).plot(kind=\"bar\",title=\"total file size in kB on Windows and Linux\", xlabel= \"Computer ID\", ylabel=\"Size in kB\")"
   ]
  }
 ],
 "metadata": {
  "kernelspec": {
   "display_name": "Python 3",
   "language": "python",
   "name": "python3"
  },
  "language_info": {
   "codemirror_mode": {
    "name": "ipython",
    "version": 3
   },
   "file_extension": ".py",
   "mimetype": "text/x-python",
   "name": "python",
   "nbconvert_exporter": "python",
   "pygments_lexer": "ipython3",
   "version": "3.11.4"
  }
 },
 "nbformat": 4,
 "nbformat_minor": 2
}
