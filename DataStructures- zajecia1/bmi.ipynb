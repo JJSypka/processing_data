{
 "cells": [
  {
   "cell_type": "markdown",
   "metadata": {},
   "source": [
    "BMI= kg/m^2"
   ]
  },
  {
   "cell_type": "code",
   "execution_count": 5,
   "metadata": {},
   "outputs": [
    {
     "ename": "TypeError",
     "evalue": "can't multiply sequence by non-int of type 'tuple'",
     "output_type": "error",
     "traceback": [
      "\u001b[0;31m---------------------------------------------------------------------------\u001b[0m",
      "\u001b[0;31mTypeError\u001b[0m                                 Traceback (most recent call last)",
      "\u001b[1;32m/Users/jj/Desktop/Semest 6/Processing and visualizing data/DataStructures- zajecia1/bmi.ipynb Komórka 2\u001b[0m line \u001b[0;36m4\n\u001b[1;32m      <a href='vscode-notebook-cell:/Users/jj/Desktop/Semest%206/Processing%20and%20visualizing%20data/DataStructures-%20zajecia1/bmi.ipynb#W3sZmlsZQ%3D%3D?line=0'>1</a>\u001b[0m kg \u001b[39m=\u001b[39m \u001b[39m115\u001b[39m\n\u001b[1;32m      <a href='vscode-notebook-cell:/Users/jj/Desktop/Semest%206/Processing%20and%20visualizing%20data/DataStructures-%20zajecia1/bmi.ipynb#W3sZmlsZQ%3D%3D?line=1'>2</a>\u001b[0m m\u001b[39m=\u001b[39m \u001b[39m1\u001b[39m,\u001b[39m76\u001b[39m\n\u001b[0;32m----> <a href='vscode-notebook-cell:/Users/jj/Desktop/Semest%206/Processing%20and%20visualizing%20data/DataStructures-%20zajecia1/bmi.ipynb#W3sZmlsZQ%3D%3D?line=3'>4</a>\u001b[0m BMI\u001b[39m=\u001b[39m kg\u001b[39m/\u001b[39m(m\u001b[39m*\u001b[39;49mm)\n",
      "\u001b[0;31mTypeError\u001b[0m: can't multiply sequence by non-int of type 'tuple'"
     ]
    }
   ],
   "source": [
    "kg = 115\n",
    "m= 1,76\n",
    "\n",
    "BMI= kg/(m*m)"
   ]
  },
  {
   "cell_type": "code",
   "execution_count": null,
   "metadata": {},
   "outputs": [],
   "source": []
  }
 ],
 "metadata": {
  "kernelspec": {
   "display_name": "Python 3",
   "language": "python",
   "name": "python3"
  },
  "language_info": {
   "codemirror_mode": {
    "name": "ipython",
    "version": 3
   },
   "file_extension": ".py",
   "mimetype": "text/x-python",
   "name": "python",
   "nbconvert_exporter": "python",
   "pygments_lexer": "ipython3",
   "version": "3.11.6"
  }
 },
 "nbformat": 4,
 "nbformat_minor": 2
}
