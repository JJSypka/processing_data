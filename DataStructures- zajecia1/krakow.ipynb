{
 "cells": [
  {
   "cell_type": "code",
   "execution_count": 8,
   "metadata": {},
   "outputs": [
    {
     "name": "stdout",
     "output_type": "stream",
     "text": [
      "count        18.000000\n",
      "mean     417204.388889\n",
      "std      303138.771614\n",
      "min       23591.000000\n",
      "25%      149269.000000\n",
      "50%      363365.500000\n",
      "75%      743770.250000\n",
      "max      804237.000000\n",
      "dtype: float64\n",
      "756629\n",
      "763886.6666666666\n"
     ]
    }
   ],
   "source": [
    "import pandas as pd\n",
    "\n",
    "\n",
    "cracow_population= pd.Series(data =  {\n",
    "    \"1791r.\": 23591,\n",
    "    \"1835r.\": 36000,\n",
    "    \"1870r.\": 49800,\n",
    "    \"1900r.\": 85300,\n",
    "    \"1910r.\": 137592,\n",
    "    \"1921r.\": 184300,\n",
    "    \"1931r.\": 219300,\n",
    "    \"1939r.\": 259000,\n",
    "    \"1945r.\": 298500,\n",
    "    \"1955r.\": 428231,\n",
    "    \"1965r.\": 520145,\n",
    "    \"1975r.\": 684600,\n",
    "    \"1985r.\": 740120,\n",
    "    \"1995r.\": 744987,\n",
    "    \"2005r.\": 756629,\n",
    "    \"2015r.\": 762508,\n",
    "    \"2019r.\": 774839,\n",
    "    \"2023r.\": 804237,\n",
    "})\n",
    "print(cracow_population.describe())\n",
    "print(cracow_population[\"2005r.\"])\n",
    "print(cracow_population[\"1985r.\":\"2023r.\"].mean())"
   ]
  }
 ],
 "metadata": {
  "kernelspec": {
   "display_name": "Python 3",
   "language": "python",
   "name": "python3"
  },
  "language_info": {
   "codemirror_mode": {
    "name": "ipython",
    "version": 3
   },
   "file_extension": ".py",
   "mimetype": "text/x-python",
   "name": "python",
   "nbconvert_exporter": "python",
   "pygments_lexer": "ipython3",
   "version": "3.11.6"
  }
 },
 "nbformat": 4,
 "nbformat_minor": 2
}
